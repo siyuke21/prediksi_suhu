{
 "cells": [
  {
   "cell_type": "code",
   "execution_count": 1,
   "metadata": {},
   "outputs": [],
   "source": [
    "import pandas as pd"
   ]
  },
  {
   "cell_type": "code",
   "execution_count": 2,
   "metadata": {},
   "outputs": [
    {
     "data": {
      "text/plain": [
       "'1.0.5'"
      ]
     },
     "execution_count": 2,
     "metadata": {},
     "output_type": "execute_result"
    }
   ],
   "source": [
    "pd.__version__"
   ]
  },
  {
   "cell_type": "code",
   "execution_count": 3,
   "metadata": {},
   "outputs": [
    {
     "data": {
      "text/plain": [
       "'0.23.1'"
      ]
     },
     "execution_count": 3,
     "metadata": {},
     "output_type": "execute_result"
    }
   ],
   "source": [
    "import sklearn\n",
    "sklearn.__version__"
   ]
  },
  {
   "cell_type": "code",
   "execution_count": 1,
   "metadata": {},
   "outputs": [],
   "source": [
    "import numpy as np\n",
    "q = np.array([[0.1,1,2.4 ], [1, 4,1], \n",
    "              [0, 0.7,0.1]])\n",
    "q"
   ]
  },
  {
   "cell_type": "code",
   "execution_count": 14,
   "metadata": {},
   "outputs": [
    {
     "data": {
      "text/plain": [
       "array([[-0.19354839,  1.01935484, -5.5483871 ],\n",
       "       [-0.06451613,  0.00645161,  1.48387097],\n",
       "       [ 0.4516129 , -0.04516129, -0.38709677]])"
      ]
     },
     "execution_count": 14,
     "metadata": {},
     "output_type": "execute_result"
    }
   ],
   "source": [
    "#hasil dari inverser\n",
    "o = np.linalg.inv(q)\n",
    "o"
   ]
  },
  {
   "cell_type": "code",
   "execution_count": 9,
   "metadata": {},
   "outputs": [
    {
     "data": {
      "text/plain": [
       "array([[0.1, 1. , 0. ],\n",
       "       [1. , 4. , 0.7],\n",
       "       [2.4, 1. , 0.1]])"
      ]
     },
     "execution_count": 9,
     "metadata": {},
     "output_type": "execute_result"
    }
   ],
   "source": [
    "#hasil dari transpose\n",
    "p = q.transpose()\n",
    "p"
   ]
  },
  {
   "cell_type": "code",
   "execution_count": 15,
   "metadata": {},
   "outputs": [
    {
     "data": {
      "text/plain": [
       "(matrix([[0.1, 1. , 0. ],\n",
       "         [1. , 4. , 0.7],\n",
       "         [2.4, 1. , 0.1]]),\n",
       " matrix([[-0.19354839,  1.01935484, -5.5483871 ],\n",
       "         [-0.06451613,  0.00645161,  1.48387097],\n",
       "         [ 0.4516129 , -0.04516129, -0.38709677]]))"
      ]
     },
     "execution_count": 15,
     "metadata": {},
     "output_type": "execute_result"
    }
   ],
   "source": [
    "#membuat q dan p menjadi sebuah data matrix\n",
    "np.mat(p),np.mat(o)"
   ]
  },
  {
   "cell_type": "code",
   "execution_count": 16,
   "metadata": {},
   "outputs": [
    {
     "data": {
      "text/plain": [
       "matrix([[ -0.08387097,   0.1083871 ,   0.92903226],\n",
       "        [ -0.13548387,   1.01354839,   0.11612903],\n",
       "        [ -0.48387097,   2.4483871 , -11.87096774]])"
      ]
     },
     "execution_count": 16,
     "metadata": {},
     "output_type": "execute_result"
    }
   ],
   "source": [
    "#perkalian matrix p dan o dimana p adalah transpose dari q, dan o adalah inverse dari q\n",
    "np.mat(p)*np.mat(o)"
   ]
  },
  {
   "cell_type": "code",
   "execution_count": 2,
   "metadata": {},
   "outputs": [],
   "source": [
    " a = np.array([[1.,7.,0.,5.,2.],[1.,4.,5.,8.,9.],[2.,7.,1.,6.,1.],[4.,4.,3.,5.,7.],[5.,3.,7.,2.,0.]])"
   ]
  },
  {
   "cell_type": "code",
   "execution_count": 3,
   "metadata": {},
   "outputs": [
    {
     "data": {
      "text/plain": [
       "array([[1., 7., 0., 5., 2.],\n",
       "       [1., 4., 5., 8., 9.],\n",
       "       [2., 7., 1., 6., 1.],\n",
       "       [4., 4., 3., 5., 7.],\n",
       "       [5., 3., 7., 2., 0.]])"
      ]
     },
     "execution_count": 3,
     "metadata": {},
     "output_type": "execute_result"
    }
   ],
   "source": [
    "a"
   ]
  },
  {
   "cell_type": "code",
   "execution_count": 8,
   "metadata": {},
   "outputs": [],
   "source": [
    "matA = np.linalg.pinv(a)"
   ]
  },
  {
   "cell_type": "code",
   "execution_count": 9,
   "metadata": {},
   "outputs": [
    {
     "data": {
      "text/plain": [
       "array([[-0.33589415, -0.17328212,  0.29236022,  0.27699531, -0.03670508],\n",
       "       [ 0.55783184, -0.03115664, -0.4080239 , -0.06103286,  0.10670081],\n",
       "       [ 0.17413572,  0.11651729, -0.21382843, -0.16901408,  0.16261204],\n",
       "       [-0.60648741,  0.07212975,  0.62953478, -0.00938967, -0.13743064],\n",
       "       [ 0.23175416,  0.01536492, -0.29193342,  0.09859155, -0.01152369]])"
      ]
     },
     "execution_count": 9,
     "metadata": {},
     "output_type": "execute_result"
    }
   ],
   "source": [
    "matA"
   ]
  },
  {
   "cell_type": "code",
   "execution_count": 10,
   "metadata": {},
   "outputs": [
    {
     "data": {
      "text/plain": [
       "array([[ 1.00000000e+00, -4.16333634e-16,  6.38378239e-16,\n",
       "         1.11022302e-16, -1.66533454e-16],\n",
       "       [-7.63278329e-16,  1.00000000e+00, -5.13478149e-16,\n",
       "        -6.10622664e-16,  2.28983499e-16],\n",
       "       [-3.05311332e-16,  4.16333634e-16,  1.00000000e+00,\n",
       "         3.33066907e-16,  6.10622664e-16],\n",
       "       [ 1.22124533e-15,  1.83186799e-15,  9.99200722e-16,\n",
       "         1.00000000e+00,  3.90312782e-16],\n",
       "       [-2.77555756e-16, -4.99600361e-16,  1.38777878e-17,\n",
       "        -2.35922393e-16,  1.00000000e+00]])"
      ]
     },
     "execution_count": 10,
     "metadata": {},
     "output_type": "execute_result"
    }
   ],
   "source": [
    "matA.dot(a)"
   ]
  },
  {
   "cell_type": "code",
   "execution_count": 11,
   "metadata": {},
   "outputs": [
    {
     "data": {
      "text/plain": [
       "array([[ 1.00000000e+00,  2.08166817e-16, -6.66133815e-16,\n",
       "         0.00000000e+00,  2.22044605e-16],\n",
       "       [ 9.15933995e-16,  1.00000000e+00,  2.77555756e-16,\n",
       "         2.63677968e-16,  3.88578059e-16],\n",
       "       [ 2.49800181e-16,  1.87350135e-16,  1.00000000e+00,\n",
       "         2.22044605e-16,  2.77555756e-16],\n",
       "       [-2.77555756e-17,  2.56739074e-16,  1.66533454e-16,\n",
       "         1.00000000e+00,  3.88578059e-16],\n",
       "       [ 0.00000000e+00,  1.66533454e-16,  2.22044605e-16,\n",
       "         2.46330734e-16,  1.00000000e+00]])"
      ]
     },
     "execution_count": 11,
     "metadata": {},
     "output_type": "execute_result"
    }
   ],
   "source": [
    "np.dot(a, matA)"
   ]
  },
  {
   "cell_type": "code",
   "execution_count": 13,
   "metadata": {},
   "outputs": [],
   "source": [
    "import numpy as np \n",
    "\n",
    "x = np.array([[1,2],[3,4]]) \n",
    "y = np.linalg.inv(x) \n"
   ]
  },
  {
   "cell_type": "code",
   "execution_count": 17,
   "metadata": {},
   "outputs": [
    {
     "data": {
      "text/plain": [
       "array([[1, 2],\n",
       "       [3, 4]])"
      ]
     },
     "execution_count": 17,
     "metadata": {},
     "output_type": "execute_result"
    }
   ],
   "source": [
    "x\n",
    "\n"
   ]
  },
  {
   "cell_type": "code",
   "execution_count": 18,
   "metadata": {},
   "outputs": [
    {
     "data": {
      "text/plain": [
       "array([[-2. ,  1. ],\n",
       "       [ 1.5, -0.5]])"
      ]
     },
     "execution_count": 18,
     "metadata": {},
     "output_type": "execute_result"
    }
   ],
   "source": [
    "y"
   ]
  },
  {
   "cell_type": "code",
   "execution_count": 19,
   "metadata": {},
   "outputs": [
    {
     "data": {
      "text/plain": [
       "array([[1.00000000e+00, 1.11022302e-16],\n",
       "       [0.00000000e+00, 1.00000000e+00]])"
      ]
     },
     "execution_count": 19,
     "metadata": {},
     "output_type": "execute_result"
    }
   ],
   "source": [
    "np.dot(x,y)"
   ]
  },
  {
   "cell_type": "code",
   "execution_count": 21,
   "metadata": {},
   "outputs": [
    {
     "data": {
      "text/plain": [
       "array([[-0.3, -0.2,  0.3,  0.3, -0. ],\n",
       "       [ 0.6, -0. , -0.4, -0.1,  0.1],\n",
       "       [ 0.2,  0.1, -0.2, -0.2,  0.2],\n",
       "       [-0.6,  0.1,  0.6, -0. , -0.1],\n",
       "       [ 0.2,  0. , -0.3,  0.1, -0. ]])"
      ]
     },
     "execution_count": 21,
     "metadata": {},
     "output_type": "execute_result"
    }
   ],
   "source": [
    "np.around(matA, 1)"
   ]
  },
  {
   "cell_type": "code",
   "execution_count": null,
   "metadata": {},
   "outputs": [],
   "source": []
  }
 ],
 "metadata": {
  "kernelspec": {
   "display_name": "Python 3",
   "language": "python",
   "name": "python3"
  },
  "language_info": {
   "codemirror_mode": {
    "name": "ipython",
    "version": 3
   },
   "file_extension": ".py",
   "mimetype": "text/x-python",
   "name": "python",
   "nbconvert_exporter": "python",
   "pygments_lexer": "ipython3",
   "version": "3.8.5"
  }
 },
 "nbformat": 4,
 "nbformat_minor": 4
}
